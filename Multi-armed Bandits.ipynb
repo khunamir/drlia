{
 "cells": [
  {
   "cell_type": "markdown",
   "id": "9c8903e3",
   "metadata": {},
   "source": [
    "Full Greedy"
   ]
  },
  {
   "cell_type": "code",
   "execution_count": 1,
   "id": "eae06de6",
   "metadata": {},
   "outputs": [],
   "source": [
    "def get_best_action(actions):\n",
    "    best_action = 0\n",
    "    max_action_value = 0\n",
    "    for i in range(len(actions)):\n",
    "        cur_action_value = get_action_value(actions[i])\n",
    "        if cur_action_value > max_action_value:\n",
    "            best_action = i\n",
    "            max_action_value = cur_action_value\n",
    "    return best_action"
   ]
  },
  {
   "cell_type": "markdown",
   "id": "e0d5311c",
   "metadata": {},
   "source": [
    "Epsilon-greedy strategy"
   ]
  },
  {
   "cell_type": "code",
   "execution_count": 11,
   "id": "80857252",
   "metadata": {},
   "outputs": [],
   "source": [
    "import numpy as np\n",
    "from scipy import stats\n",
    "import random\n",
    "import matplotlib.pyplot as plt"
   ]
  },
  {
   "cell_type": "code",
   "execution_count": 12,
   "id": "fc678a90",
   "metadata": {},
   "outputs": [],
   "source": [
    "def get_reward(prob, n=10):\n",
    "    reward = 0\n",
    "    for i in range(n):\n",
    "        if random.random() < prob:\n",
    "            reward += 1\n",
    "    return reward"
   ]
  },
  {
   "cell_type": "code",
   "execution_count": 13,
   "id": "3f9c5aa3",
   "metadata": {},
   "outputs": [
    {
     "data": {
      "text/plain": [
       "4.9605"
      ]
     },
     "execution_count": 13,
     "metadata": {},
     "output_type": "execute_result"
    }
   ],
   "source": [
    "np.mean([get_reward(0.5) for _ in range(2000)])"
   ]
  },
  {
   "cell_type": "code",
   "execution_count": 14,
   "id": "cef62bca",
   "metadata": {},
   "outputs": [],
   "source": [
    "def update_record(record, action, x):\n",
    "    new_r = (record[action,0] * record[action,1] + r) / (record[action,0] + 1)\n",
    "    record[action,0] += 1\n",
    "    record[action,1] = new_r\n",
    "    return record"
   ]
  },
  {
   "cell_type": "code",
   "execution_count": 15,
   "id": "ff25c435",
   "metadata": {},
   "outputs": [],
   "source": [
    "def get_best_arm(record):\n",
    "    arm_index = np.argmax(record[:,1],axis=0)\n",
    "    return arm_index"
   ]
  },
  {
   "cell_type": "code",
   "execution_count": 9,
   "id": "a407e51b",
   "metadata": {},
   "outputs": [
    {
     "data": {
      "text/plain": [
       "<matplotlib.collections.PathCollection at 0x28a7ce108b0>"
      ]
     },
     "execution_count": 9,
     "metadata": {},
     "output_type": "execute_result"
    },
    {
     "data": {
      "image/png": "[encoded data removed]",
      "text/plain": [
       "<Figure size 432x288 with 1 Axes>"
      ]
     },
     "metadata": {
      "needs_background": "light"
     },
     "output_type": "display_data"
    }
   ],
   "source": [
    "fig, ax = plt.subplots(1,1)\n",
    "ax.set_xlabel(\"Plays\")\n",
    "ax.set_ylabel(\"Avg Reward\")\n",
    "record = np.zeros((n,2))\n",
    "probs = np.random.rand(n)\n",
    "eps = 0.2\n",
    "rewards = [0]\n",
    "for i in range(500):\n",
    "    if random.random() > eps:\n",
    "        choice = get_best_arm(record)\n",
    "    else:\n",
    "        choice = np.random.randint(10)\n",
    "    r = get_reward(probs[choice])\n",
    "    record = update_record(record, choice, r)\n",
    "    mean_reward = ((i+1) * rewards[-1] + r)/(i+2)\n",
    "    rewards.append(mean_reward)\n",
    "ax.scatter(np.arange(len(rewards)), rewards)"
   ]
  },
  {
   "cell_type": "code",
   "execution_count": null,
   "id": "e3404c7a",
   "metadata": {},
   "outputs": [],
   "source": []
  }
 ],
 "metadata": {
  "kernelspec": {
   "display_name": "Python 3",
   "language": "python",
   "name": "python3"
  },
  "language_info": {
   "codemirror_mode": {
    "name": "ipython",
    "version": 3
   },
   "file_extension": ".py",
   "mimetype": "text/x-python",
   "name": "python",
   "nbconvert_exporter": "python",
   "pygments_lexer": "ipython3",
   "version": "3.8.8"
  }
 },
 "nbformat": 4,
 "nbformat_minor": 5
}
